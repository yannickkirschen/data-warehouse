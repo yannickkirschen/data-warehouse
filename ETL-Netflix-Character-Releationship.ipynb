{
 "cells": [
  {
   "cell_type": "code",
   "execution_count": 53,
   "id": "initial_id",
   "metadata": {
    "collapsed": true,
    "ExecuteTime": {
     "end_time": "2023-10-21T10:08:08.140472Z",
     "start_time": "2023-10-21T10:08:07.930505Z"
    }
   },
   "outputs": [
    {
     "data": {
      "text/plain": "'doctest-output/Relationships.gv.pdf'"
     },
     "execution_count": 53,
     "metadata": {},
     "output_type": "execute_result"
    }
   ],
   "source": [
    "import graphviz\n",
    "import pandas as pd\n",
    "\n",
    "dot = graphviz.Digraph('Relationships', comment='Relationships of actors')\n",
    "df = pd.read_json('dark-netflix-character-relationship.json')\n",
    "\n",
    "all_spouses = [{}]\n",
    "all_siblings = [{}]\n",
    "\n",
    "for character in df.characters:\n",
    "    name = character['name']\n",
    "    dot.node(name, name)\n",
    "\n",
    "    if 'parentOf' in character:\n",
    "        parentOf = character['parentOf']\n",
    "        children = parentOf if type(parentOf) == list else [parentOf]\n",
    "\n",
    "        for child in children:\n",
    "            dot.edge(name, child)\n",
    "\n",
    "    if 'married' in character:\n",
    "        married = character['married']\n",
    "        spouses = married if type(married) == list else [married]\n",
    "\n",
    "        for spouse in spouses:\n",
    "            s = {name, spouse}\n",
    "            if not s in all_spouses:\n",
    "                all_spouses.append(s)\n",
    "                dot.edge(name, spouse, dir='both')\n",
    "    \n",
    "    dot.attr('node', shape='none')\n",
    "    if 'siblings' in character:\n",
    "        siblings = character['siblings']\n",
    "        siblings = siblings if type(siblings) == list else [siblings]\n",
    "\n",
    "        for sibling in siblings:\n",
    "            s = {name, sibling}\n",
    "            if not s in all_siblings:\n",
    "                all_siblings.append(s)\n",
    "                dot.edge(name, sibling, dir='none')\n",
    "            \n",
    "dot.render(directory='doctest-output', view=True)"
   ]
  }
 ],
 "metadata": {
  "kernelspec": {
   "display_name": "Python 3",
   "language": "python",
   "name": "python3"
  },
  "language_info": {
   "codemirror_mode": {
    "name": "ipython",
    "version": 2
   },
   "file_extension": ".py",
   "mimetype": "text/x-python",
   "name": "python",
   "nbconvert_exporter": "python",
   "pygments_lexer": "ipython2",
   "version": "2.7.6"
  }
 },
 "nbformat": 4,
 "nbformat_minor": 5
}
