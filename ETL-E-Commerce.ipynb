{
 "cells": [
  {
   "cell_type": "code",
   "execution_count": 34,
   "outputs": [
    {
     "name": "stderr",
     "output_type": "stream",
     "text": [
      "/var/folders/ck/50k1mlnj0yn3955gb9ngdr8c0000gn/T/ipykernel_3150/3742919774.py:14: SettingWithCopyWarning: \n",
      "A value is trying to be set on a copy of a slice from a DataFrame.\n",
      "Try using .loc[row_indexer,col_indexer] = value instead\n",
      "\n",
      "See the caveats in the documentation: https://pandas.pydata.org/pandas-docs/stable/user_guide/indexing.html#returning-a-view-versus-a-copy\n",
      "  no_gb['agg_price'] = no_gb.apply(lambda data: data.UnitPrice * data.Quantity, axis=1)\n",
      "/var/folders/ck/50k1mlnj0yn3955gb9ngdr8c0000gn/T/ipykernel_3150/3742919774.py:15: SettingWithCopyWarning: \n",
      "A value is trying to be set on a copy of a slice from a DataFrame.\n",
      "Try using .loc[row_indexer,col_indexer] = value instead\n",
      "\n",
      "See the caveats in the documentation: https://pandas.pydata.org/pandas-docs/stable/user_guide/indexing.html#returning-a-view-versus-a-copy\n",
      "  no_gb['FormattedDate'] = no_gb['InvoiceDate'].apply(lambda date: datetime.strptime(date, INPUT_DATE_FORMAT).strftime(OUTPUT_DATE_FORMAT))\n"
     ]
    },
    {
     "ename": "ValueError",
     "evalue": "Cannot subset columns with a tuple with more than one element. Use a list instead.",
     "output_type": "error",
     "traceback": [
      "\u001B[0;31m---------------------------------------------------------------------------\u001B[0m",
      "\u001B[0;31mValueError\u001B[0m                                Traceback (most recent call last)",
      "Cell \u001B[0;32mIn[34], line 16\u001B[0m\n\u001B[1;32m     14\u001B[0m no_gb[\u001B[38;5;124m'\u001B[39m\u001B[38;5;124magg_price\u001B[39m\u001B[38;5;124m'\u001B[39m] \u001B[38;5;241m=\u001B[39m no_gb\u001B[38;5;241m.\u001B[39mapply(\u001B[38;5;28;01mlambda\u001B[39;00m data: data\u001B[38;5;241m.\u001B[39mUnitPrice \u001B[38;5;241m*\u001B[39m data\u001B[38;5;241m.\u001B[39mQuantity, axis\u001B[38;5;241m=\u001B[39m\u001B[38;5;241m1\u001B[39m)\n\u001B[1;32m     15\u001B[0m no_gb[\u001B[38;5;124m'\u001B[39m\u001B[38;5;124mFormattedDate\u001B[39m\u001B[38;5;124m'\u001B[39m] \u001B[38;5;241m=\u001B[39m no_gb[\u001B[38;5;124m'\u001B[39m\u001B[38;5;124mInvoiceDate\u001B[39m\u001B[38;5;124m'\u001B[39m]\u001B[38;5;241m.\u001B[39mapply(\u001B[38;5;28;01mlambda\u001B[39;00m date: datetime\u001B[38;5;241m.\u001B[39mstrptime(date, INPUT_DATE_FORMAT)\u001B[38;5;241m.\u001B[39mstrftime(OUTPUT_DATE_FORMAT))\n\u001B[0;32m---> 16\u001B[0m agg_product \u001B[38;5;241m=\u001B[39m \u001B[43mno_gb\u001B[49m\u001B[38;5;241;43m.\u001B[39;49m\u001B[43mgroupby\u001B[49m\u001B[43m(\u001B[49m\u001B[43m[\u001B[49m\u001B[38;5;124;43m'\u001B[39;49m\u001B[38;5;124;43mStockCode\u001B[39;49m\u001B[38;5;124;43m'\u001B[39;49m\u001B[43m,\u001B[49m\u001B[43m \u001B[49m\u001B[38;5;124;43m'\u001B[39;49m\u001B[38;5;124;43mInvoiceDate\u001B[39;49m\u001B[38;5;124;43m'\u001B[39;49m\u001B[43m]\u001B[49m\u001B[43m)\u001B[49m\u001B[43m[\u001B[49m\u001B[38;5;124;43m'\u001B[39;49m\u001B[38;5;124;43magg_price\u001B[39;49m\u001B[38;5;124;43m'\u001B[39;49m\u001B[43m,\u001B[49m\u001B[43m \u001B[49m\u001B[38;5;124;43m'\u001B[39;49m\u001B[38;5;124;43mQuantity\u001B[39;49m\u001B[38;5;124;43m'\u001B[39;49m\u001B[43m]\u001B[49m\u001B[38;5;241m.\u001B[39msum()\u001B[38;5;241m.\u001B[39mreset_index()\n\u001B[1;32m     17\u001B[0m \u001B[38;5;28mprint\u001B[39m(agg_product\u001B[38;5;241m.\u001B[39mhead())\n",
      "File \u001B[0;32m~/Development/data-warehouse/venv/lib/python3.9/site-packages/pandas/core/groupby/generic.py:1957\u001B[0m, in \u001B[0;36mDataFrameGroupBy.__getitem__\u001B[0;34m(self, key)\u001B[0m\n\u001B[1;32m   1953\u001B[0m \u001B[38;5;66;03m# per GH 23566\u001B[39;00m\n\u001B[1;32m   1954\u001B[0m \u001B[38;5;28;01mif\u001B[39;00m \u001B[38;5;28misinstance\u001B[39m(key, \u001B[38;5;28mtuple\u001B[39m) \u001B[38;5;129;01mand\u001B[39;00m \u001B[38;5;28mlen\u001B[39m(key) \u001B[38;5;241m>\u001B[39m \u001B[38;5;241m1\u001B[39m:\n\u001B[1;32m   1955\u001B[0m     \u001B[38;5;66;03m# if len == 1, then it becomes a SeriesGroupBy and this is actually\u001B[39;00m\n\u001B[1;32m   1956\u001B[0m     \u001B[38;5;66;03m# valid syntax, so don't raise\u001B[39;00m\n\u001B[0;32m-> 1957\u001B[0m     \u001B[38;5;28;01mraise\u001B[39;00m \u001B[38;5;167;01mValueError\u001B[39;00m(\n\u001B[1;32m   1958\u001B[0m         \u001B[38;5;124m\"\u001B[39m\u001B[38;5;124mCannot subset columns with a tuple with more than one element. \u001B[39m\u001B[38;5;124m\"\u001B[39m\n\u001B[1;32m   1959\u001B[0m         \u001B[38;5;124m\"\u001B[39m\u001B[38;5;124mUse a list instead.\u001B[39m\u001B[38;5;124m\"\u001B[39m\n\u001B[1;32m   1960\u001B[0m     )\n\u001B[1;32m   1961\u001B[0m \u001B[38;5;28;01mreturn\u001B[39;00m \u001B[38;5;28msuper\u001B[39m()\u001B[38;5;241m.\u001B[39m\u001B[38;5;21m__getitem__\u001B[39m(key)\n",
      "\u001B[0;31mValueError\u001B[0m: Cannot subset columns with a tuple with more than one element. Use a list instead."
     ]
    }
   ],
   "source": [
    "from datetime import datetime\n",
    "\n",
    "import pandas as pd\n",
    "\n",
    "INPUT_DATE_FORMAT = '%m/%d/%Y %H:%M'\n",
    "OUTPUT_DATE_FORMAT = '%d-%m-%Y'\n",
    "\n",
    "df = pd.read_csv('ecommerce-data.csv', encoding='unicode_escape')\n",
    "\n",
    "def f(data: pd.DataFrame):\n",
    "    print(data); return data['UnitPrice'] * data['Quantity']\n",
    "\n",
    "no_gb = df[df['Country'] != 'United Kingdom']\n",
    "no_gb['agg_price'] = no_gb.apply(lambda data: data.UnitPrice * data.Quantity, axis=1)\n",
    "no_gb['FormattedDate'] = no_gb['InvoiceDate'].apply(lambda date: datetime.strptime(date, INPUT_DATE_FORMAT).strftime(OUTPUT_DATE_FORMAT))\n",
    "agg_product = no_gb.groupby(['StockCode', 'InvoiceDate'])['agg_price', 'Quantity'].sum().reset_index()\n",
    "print(agg_product.head())\n"
   ],
   "metadata": {
    "collapsed": false,
    "ExecuteTime": {
     "end_time": "2023-10-23T08:52:54.065063Z",
     "start_time": "2023-10-23T08:52:53.031750Z"
    }
   },
   "id": "1f6acdb584170af7"
  }
 ],
 "metadata": {
  "kernelspec": {
   "display_name": "Python 3",
   "language": "python",
   "name": "python3"
  },
  "language_info": {
   "codemirror_mode": {
    "name": "ipython",
    "version": 2
   },
   "file_extension": ".py",
   "mimetype": "text/x-python",
   "name": "python",
   "nbconvert_exporter": "python",
   "pygments_lexer": "ipython2",
   "version": "2.7.6"
  }
 },
 "nbformat": 4,
 "nbformat_minor": 5
}
